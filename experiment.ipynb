{
 "cells": [
  {
   "cell_type": "code",
   "id": "initial_id",
   "metadata": {
    "collapsed": true,
    "ExecuteTime": {
     "end_time": "2024-11-28T06:43:52.242861Z",
     "start_time": "2024-11-28T06:43:47.996958Z"
    }
   },
   "source": [
    "import pandas as pd\n",
    "import numpy as np\n",
    "import torch\n",
    "from sklearn.model_selection import train_test_split\n",
    "\n",
    "from utils import get_loaders\n",
    "from models import SSLNet\n",
    "\n",
    "print(torch.cuda.is_available())"
   ],
   "outputs": [
    {
     "name": "stdout",
     "output_type": "stream",
     "text": [
      "True\n"
     ]
    }
   ],
   "execution_count": 1
  },
  {
   "metadata": {
    "ExecuteTime": {
     "end_time": "2024-11-28T06:45:07.176078Z",
     "start_time": "2024-11-28T06:45:07.171675Z"
    }
   },
   "cell_type": "code",
   "source": [
    "config = {\n",
    "    'method': 'ssd',\n",
    "    'temperature': 0.07,\n",
    "    'contrast_mode': 'one',\n",
    "    \n",
    "    # Training\n",
    "    'epochs': 1000,\n",
    "    'lr': 5e-4,\n",
    "    'weight_decay': 1e-5,\n",
    "    'patience': 20,\n",
    "    'min_delta': 1e-8,\n",
    "    'sched_patience': 5,\n",
    "    'sched_factor': 0.5,\n",
    "    \n",
    "    # Network\n",
    "    'dims' : [30, 16, 8],\n",
    "    'drop': 0.1,\n",
    "    'norm': True,\n",
    "    'activation': 'ReLU',\n",
    "    \n",
    "    # Dataset\n",
    "    'val_split': 0.1,\n",
    "    'test_split': 0.1,\n",
    "    'batch_size': 1024,\n",
    "    \n",
    "    # Utility\n",
    "    'seed': 15,\n",
    "    'device': 'cuda' if torch.cuda.is_available() else 'cpu',\n",
    "    'data_path': './Data/creditcard.csv',\n",
    "}"
   ],
   "id": "9651ca56c71cc71f",
   "outputs": [],
   "execution_count": 4
  },
  {
   "metadata": {
    "ExecuteTime": {
     "end_time": "2024-11-28T06:45:09.877072Z",
     "start_time": "2024-11-28T06:45:07.526915Z"
    }
   },
   "cell_type": "code",
   "source": "train_loader, val_loader, test_loader = get_loaders(config['data_path'], config['val_split'], config['test_split'], config['seed'], config['batch_size'], config['method'])",
   "id": "4b80884da6f7d67e",
   "outputs": [
    {
     "name": "stdout",
     "output_type": "stream",
     "text": [
      "(230693, 31) (25633, 31) (28481, 31)\n"
     ]
    }
   ],
   "execution_count": 5
  },
  {
   "metadata": {
    "ExecuteTime": {
     "end_time": "2024-11-28T06:45:11.667815Z",
     "start_time": "2024-11-28T06:45:09.878315Z"
    }
   },
   "cell_type": "code",
   "source": [
    "df = pd.read_csv('./Data/creditcard.csv')\n",
    "for i in ['Time', 'Amount']:\n",
    "    df.loc[:, i] = (df[i] - df[i].mean()) / df[i].std()\n",
    "\n",
    "train, test = train_test_split(df, test_size=config['test_split'], stratify=df['Class'],\n",
    "                               random_state=config['seed'])\n",
    "train, val = train_test_split(train, test_size=config['val_split'], stratify=train['Class'],\n",
    "                              random_state=config['seed'])\n",
    "\n",
    "print(train.shape, val.shape, test.shape)\n",
    "\n",
    "x = train.iloc[:, :-1].values\n",
    "y = train.iloc[:, -1].values\n",
    "\n",
    "x_val = val.iloc[:, :-1].values\n",
    "y_val = val.iloc[:, -1].values\n",
    "\n",
    "x_test = test.iloc[:, :-1].values\n",
    "y_test = test.iloc[:, -1].values\n",
    "\n",
    "if config['method'] == 'ssd':\n",
    "    x_pos = x + np.random.normal(0, 0.05, x.shape)\n",
    "    train = torch.utils.data.TensorDataset(torch.tensor(x, dtype=torch.float32), \n",
    "                                           torch.tensor(x_pos, dtype=torch.float32), \n",
    "                                           torch.tensor(y, dtype=torch.float32)\n",
    "                                           )\n",
    "\n",
    "else:\n",
    "    train = torch.utils.data.TensorDataset(torch.tensor(x, dtype=torch.float32), torch.tensor(y, dtype=torch.float32))\n",
    "val = torch.utils.data.TensorDataset(torch.tensor(x_val, dtype=torch.float32),\n",
    "                                     torch.tensor(y_val, dtype=torch.float32))"
   ],
   "id": "61701aebc55ca179",
   "outputs": [
    {
     "name": "stdout",
     "output_type": "stream",
     "text": [
      "(230693, 31) (25633, 31) (28481, 31)\n"
     ]
    }
   ],
   "execution_count": 6
  },
  {
   "metadata": {
    "ExecuteTime": {
     "end_time": "2024-11-28T06:45:11.674595Z",
     "start_time": "2024-11-28T06:45:11.669322Z"
    }
   },
   "cell_type": "code",
   "source": [
    "model = SSLNet(config)\n",
    "print(model)"
   ],
   "id": "bead22f1de20d9a8",
   "outputs": [
    {
     "name": "stdout",
     "output_type": "stream",
     "text": [
      "SSLNet(\n",
      "  (embeddings): Sequential(\n",
      "    (0): Linear(in_features=30, out_features=16, bias=True)\n",
      "    (1): BatchNorm1d(16, eps=1e-05, momentum=0.1, affine=True, track_running_stats=True)\n",
      "    (2): ReLU()\n",
      "    (3): Dropout(p=0.1, inplace=False)\n",
      "    (4): Linear(in_features=16, out_features=8, bias=True)\n",
      "  )\n",
      ")\n"
     ]
    }
   ],
   "execution_count": 7
  },
  {
   "metadata": {
    "ExecuteTime": {
     "end_time": "2024-11-28T07:02:58.690849Z",
     "start_time": "2024-11-28T07:02:58.677669Z"
    }
   },
   "cell_type": "code",
   "source": [
    "x = torch.tensor(x, dtype=torch.float32)\n",
    "x_pos = torch.tensor(x_pos, dtype=torch.float32)\n",
    "y = torch.tensor(y, dtype=torch.float32)"
   ],
   "id": "15ad98b84b522747",
   "outputs": [],
   "execution_count": 14
  },
  {
   "metadata": {
    "ExecuteTime": {
     "end_time": "2024-11-28T07:28:32.062816Z",
     "start_time": "2024-11-28T07:28:32.057816Z"
    }
   },
   "cell_type": "code",
   "source": [
    "contrast_mode = 'one'\n",
    "temperature = 0.07"
   ],
   "id": "50427477d6449603",
   "outputs": [],
   "execution_count": 46
  },
  {
   "metadata": {
    "ExecuteTime": {
     "end_time": "2024-11-28T07:03:11.844988Z",
     "start_time": "2024-11-28T07:03:11.774773Z"
    }
   },
   "cell_type": "code",
   "source": [
    "images = torch.cat([x, x_pos], dim=0)\n",
    "batch_size = y.shape[0]\n",
    "\n",
    "features = model(images)\n",
    "f1, f2 = torch.split(features, [batch_size, batch_size], dim=0)\n",
    "features = torch.cat([f1.unsqueeze(1), f2.unsqueeze(1)], dim=1)\n",
    "loss = criterion(features)"
   ],
   "id": "43ff143c1660cbdb",
   "outputs": [],
   "execution_count": 17
  },
  {
   "metadata": {
    "ExecuteTime": {
     "end_time": "2024-11-28T08:20:12.533754Z",
     "start_time": "2024-11-28T08:20:12.528575Z"
    }
   },
   "cell_type": "code",
   "source": "f1.shape",
   "id": "13dbb1993f9e1e01",
   "outputs": [
    {
     "data": {
      "text/plain": [
       "torch.Size([1024, 8])"
      ]
     },
     "execution_count": 77,
     "metadata": {},
     "output_type": "execute_result"
    }
   ],
   "execution_count": 77
  },
  {
   "metadata": {
    "ExecuteTime": {
     "end_time": "2024-11-28T08:40:05.195999Z",
     "start_time": "2024-11-28T08:40:05.192153Z"
    }
   },
   "cell_type": "code",
   "source": "lists = []",
   "id": "99601a45aa61119",
   "outputs": [],
   "execution_count": 78
  },
  {
   "metadata": {
    "ExecuteTime": {
     "end_time": "2024-11-28T08:40:40.279771Z",
     "start_time": "2024-11-28T08:40:40.274299Z"
    }
   },
   "cell_type": "code",
   "source": "lists.append(f1[3:6])",
   "id": "83849b56f9603fe2",
   "outputs": [],
   "execution_count": 83
  },
  {
   "metadata": {
    "ExecuteTime": {
     "end_time": "2024-11-28T08:40:58.287950Z",
     "start_time": "2024-11-28T08:40:58.282303Z"
    }
   },
   "cell_type": "code",
   "source": "torch.concat(lists).shape",
   "id": "347f4e086ea4439f",
   "outputs": [
    {
     "data": {
      "text/plain": [
       "torch.Size([6, 8])"
      ]
     },
     "execution_count": 86,
     "metadata": {},
     "output_type": "execute_result"
    }
   ],
   "execution_count": 86
  },
  {
   "metadata": {},
   "cell_type": "code",
   "outputs": [],
   "execution_count": null,
   "source": "",
   "id": "c7fd69879e37b709"
  }
 ],
 "metadata": {
  "kernelspec": {
   "display_name": "Python 3",
   "language": "python",
   "name": "python3"
  },
  "language_info": {
   "codemirror_mode": {
    "name": "ipython",
    "version": 2
   },
   "file_extension": ".py",
   "mimetype": "text/x-python",
   "name": "python",
   "nbconvert_exporter": "python",
   "pygments_lexer": "ipython2",
   "version": "2.7.6"
  }
 },
 "nbformat": 4,
 "nbformat_minor": 5
}
