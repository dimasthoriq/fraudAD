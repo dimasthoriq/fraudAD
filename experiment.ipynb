{
 "cells": [
  {
   "cell_type": "code",
   "id": "initial_id",
   "metadata": {
    "collapsed": true
   },
   "source": [
    "import numpy as np\n",
    "import matplotlib.pyplot as plt\n",
    "import torch\n",
    "\n",
    "from utils import get_loaders\n",
    "from models import SSLNet\n",
    "from trainers import train_ssd\n",
    "from evals import evaluate\n",
    "\n",
    "print(torch.cuda.is_available())"
   ],
   "outputs": [],
   "execution_count": null
  },
  {
   "metadata": {},
   "cell_type": "code",
   "source": [
    "config = {\n",
    "    'method': 'ssd',\n",
    "    'temperature': 0.07,\n",
    "    'contrast_mode': 'one',\n",
    "    \n",
    "    # Training\n",
    "    'epochs': 1000,\n",
    "    'lr': 5e-4,\n",
    "    'weight_decay': 1e-5,\n",
    "    'patience': 50,\n",
    "    'min_delta': 1e-8,\n",
    "    'sched_patience': 10,\n",
    "    'sched_factor': 0.5,\n",
    "    \n",
    "    # Network\n",
    "    'dims' : [30, 16, 8],\n",
    "    'drop': 0.1,\n",
    "    'norm': True,\n",
    "    'activation': 'ReLU',\n",
    "    \n",
    "    # Dataset\n",
    "    'val_split': 0.1,\n",
    "    'test_split': 0.1,\n",
    "    'batch_size': 1024,\n",
    "    \n",
    "    # Utility\n",
    "    'seed': 15,\n",
    "    'device': 'cuda' if torch.cuda.is_available() else 'cpu',\n",
    "    'data_path': './Data/creditcard.csv',\n",
    "    'print_freq': 20,\n",
    "}"
   ],
   "id": "9651ca56c71cc71f",
   "outputs": [],
   "execution_count": null
  },
  {
   "metadata": {},
   "cell_type": "code",
   "source": "train_loader, val_loader, test_loader = get_loaders(config['data_path'], config['val_split'], config['test_split'], config['seed'], config['batch_size'], config['method'])",
   "id": "4b80884da6f7d67e",
   "outputs": [],
   "execution_count": null
  },
  {
   "metadata": {},
   "cell_type": "markdown",
   "source": "# Training",
   "id": "9ad79f254d2cf0b"
  },
  {
   "metadata": {},
   "cell_type": "code",
   "source": [
    "model = SSLNet(config).to(config['device'])\n",
    "print(model)\n",
    "\n",
    "config['temperature'] = 0.07\n",
    "config['seed'] = 15"
   ],
   "id": "ea59fdf1105a4afa",
   "outputs": [],
   "execution_count": null
  },
  {
   "metadata": {},
   "cell_type": "code",
   "source": "model, train_losses, val_losses, train_ap, val_ap, train_fpr, val_fpr = train_ssd(model, train_loader, val_loader, config)",
   "id": "fb9048f4440c7cd7",
   "outputs": [],
   "execution_count": null
  },
  {
   "metadata": {},
   "cell_type": "code",
   "source": [
    "# Plot the loss\n",
    "plt.plot(train_losses, label = \"Train\")\n",
    "plt.plot(val_losses, label = \"Val\")\n",
    "plt.xlabel(\"Epoch\")\n",
    "plt.ylabel(\"Loss\")\n",
    "plt.legend()\n",
    "plt.show()"
   ],
   "id": "c674874d3ba00cc6",
   "outputs": [],
   "execution_count": null
  },
  {
   "metadata": {},
   "cell_type": "code",
   "source": [
    "#Plot the metrics\n",
    "plt.plot(train_fpr, label = \"Train FPR@95\")\n",
    "plt.plot(val_fpr, label = \"Val FPR@95\")\n",
    "plt.plot(train_ap, label = \"Train AUPRC\")\n",
    "plt.plot(val_ap, label = \"Val AUPRC\")\n",
    "plt.xlabel(\"Epoch\")\n",
    "plt.ylabel(\"Metrics\")\n",
    "plt.legend()\n",
    "plt.show()"
   ],
   "id": "c25453f37fdb8fe",
   "outputs": [],
   "execution_count": null
  },
  {
   "metadata": {},
   "cell_type": "code",
   "source": "test_ap, test_fpr = evaluate(model, train_loader, test_loader)",
   "id": "fff27785199b24a1",
   "outputs": [],
   "execution_count": null
  },
  {
   "metadata": {},
   "cell_type": "code",
   "source": [
    "print(f'Train FPR@95: {train_fpr[-config['patience']]:.4f}, Val FPR@95: {val_fpr[-config['patience']]:.4f}, Test FPR@95: {test_fpr:.4f}')\n",
    "print(f'Train AUPRC: {train_ap[-config['patience']]:.4f}, Val AUPRC: {val_ap[-config['patience']]:.4f}, Test AUPRC: {test_ap:.4f}')"
   ],
   "id": "efa00589e6339932",
   "outputs": [],
   "execution_count": null
  }
 ],
 "metadata": {
  "kernelspec": {
   "display_name": "Python 3",
   "language": "python",
   "name": "python3"
  },
  "language_info": {
   "codemirror_mode": {
    "name": "ipython",
    "version": 2
   },
   "file_extension": ".py",
   "mimetype": "text/x-python",
   "name": "python",
   "nbconvert_exporter": "python",
   "pygments_lexer": "ipython2",
   "version": "2.7.6"
  }
 },
 "nbformat": 4,
 "nbformat_minor": 5
}
